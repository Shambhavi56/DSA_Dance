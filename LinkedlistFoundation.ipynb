{
 "cells": [
  {
   "cell_type": "code",
   "execution_count": 1,
   "id": "a13eecb2",
   "metadata": {},
   "outputs": [],
   "source": [
    "class Node:\n",
    "    def __init__(self,value):\n",
    "        self.value=value\n",
    "        self.next=None"
   ]
  },
  {
   "cell_type": "code",
   "execution_count": null,
   "id": "b5b288cf",
   "metadata": {},
   "outputs": [],
   "source": [
    "class LinkedList:\n",
    "    def __init__(self):\n",
    "        #empty linkedlist \n",
    "        self.head= None\n",
    "        #number of node\n",
    "        self.n=0\n",
    "    def __len__(self):\n",
    "       return self.n\n",
    "   \n",
    "    def insert_head(self,value):\n",
    "        # create a  new node\n",
    "         new_node =Node(value)\n",
    "        # make connection\n",
    "         new_node.next =self.head\n",
    "        # reassign head\n",
    "         self.head= new_node\n",
    "        # increament length\n",
    "         self.n = self.n+1\n",
    "         \n",
    "    def __traverse__(self):\n",
    "        \n",
    "        curr = self.head\n",
    "        \n",
    "        while curr!=None:\n",
    "            print(curr.value)\n",
    "            curr.next = curr\n",
    "            \n",
    "    def __str__(self):\n",
    "         curr= self.head\n",
    "         \n",
    "         result = ''\n",
    "         \n",
    "         while curr!= None:\n",
    "             result = result + str(curr.value) + '->'\n",
    "             curr = curr.next\n",
    "             \n",
    "         return result[:-2]\n",
    "        \n",
    "    def append(self,value):\n",
    "         \n",
    "        new_node = Node(value)\n",
    "        \n",
    "        curr = self.head\n",
    "        \n",
    "        while curr.next!=None:\n",
    "            curr.next = curr\n",
    "        #you are the last node\n",
    "        curr.next = new_node\n",
    "        \n",
    "        self.n=self.n+1\n",
    "        \n",
    "    def insert_after(self,after,value): \n",
    "        new_node = Node(value)\n",
    "        curr = self.head\n",
    "        while curr!=None:\n",
    "            if curr.value==after:\n",
    "                break\n",
    "            curr=curr.next\n",
    "        #case 1 break , item found, curr!=None\n",
    "        if curr!=None:\n",
    "             # when you reach the after node\n",
    "             new_node.next = curr.next\n",
    "             curr.next = new_node\n",
    "             self.n = self.n+1\n",
    "        #case2 break, item not found , curr = None\n",
    "        else:\n",
    "            print('item not found, cannot insert new node')\n",
    "        \n",
    "    def clear(self):\n",
    "       self.head = None\n",
    "       self.n=0\n",
    "       \n",
    "    def delete_head(self):\n",
    "        if self.head==None:\n",
    "           return 'empty linkedlist'\n",
    "        self.head=self.head.next\n",
    "        self.n= self.n-1\n",
    "        \n",
    "    def pop(self):\n",
    "     curr = self.head\n",
    "     if curr.next==None or curr==None:\n",
    "         self.delete_head   \n",
    "     while curr.next.next!=None: # reach the 2nd last element\n",
    "      curr= curr.next\n",
    "    # break connection with last node\n",
    "     curr.next = None  \n",
    "     self.n=self.n-1\n",
    "     \n",
    "    def remove(self,value):\n",
    "        if self.head == None:\n",
    "            return 'Empty LL'\n",
    "        if self.head.data == value:\n",
    "            return self.delete_head\n",
    "        curr = self.head\n",
    "        \n",
    "        while curr.next!=None:\n",
    "            if curr.next.data==value:\n",
    "                break\n",
    "            curr= curr.next\n",
    "        # item found \n",
    "        curr.next = curr.next.next\n",
    "        self.n= self.n-1\n",
    "        #item not found\n",
    "        if curr.next==None:\n",
    "         return 'no such value in the linkedlist'\n",
    "     \n",
    "      # ek hi item ho or item match nhi kare to kaise delte karoge? code phatega kya??\n",
    "        \n",
    "        \n",
    "  \n",
    "       \n",
    "         \n",
    "        "
   ]
  },
  {
   "cell_type": "code",
   "execution_count": 3,
   "id": "0d908753",
   "metadata": {},
   "outputs": [],
   "source": [
    "L = LinkedList()"
   ]
  },
  {
   "cell_type": "code",
   "execution_count": 4,
   "id": "e0c7524e",
   "metadata": {},
   "outputs": [],
   "source": [
    "L.insert_head(1)\n",
    "L.insert_head(2)\n",
    "L.insert_head(3)\n",
    "L.insert_head(4)"
   ]
  },
  {
   "cell_type": "code",
   "execution_count": 5,
   "id": "3aef4008",
   "metadata": {},
   "outputs": [
    {
     "data": {
      "text/plain": [
       "4"
      ]
     },
     "execution_count": 5,
     "metadata": {},
     "output_type": "execute_result"
    }
   ],
   "source": [
    "len(L)"
   ]
  },
  {
   "cell_type": "code",
   "execution_count": 6,
   "id": "105f4269",
   "metadata": {},
   "outputs": [
    {
     "name": "stdout",
     "output_type": "stream",
     "text": [
      "4->3->2->1\n"
     ]
    }
   ],
   "source": [
    "print(L)"
   ]
  },
  {
   "cell_type": "code",
   "execution_count": null,
   "id": "a07cf103",
   "metadata": {},
   "outputs": [],
   "source": []
  }
 ],
 "metadata": {
  "kernelspec": {
   "display_name": "base",
   "language": "python",
   "name": "python3"
  },
  "language_info": {
   "codemirror_mode": {
    "name": "ipython",
    "version": 3
   },
   "file_extension": ".py",
   "mimetype": "text/x-python",
   "name": "python",
   "nbconvert_exporter": "python",
   "pygments_lexer": "ipython3",
   "version": "3.12.4"
  }
 },
 "nbformat": 4,
 "nbformat_minor": 5
}
